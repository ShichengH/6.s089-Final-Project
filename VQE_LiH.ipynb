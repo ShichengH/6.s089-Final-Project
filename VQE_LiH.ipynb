{
 "cells": [
  {
   "cell_type": "code",
   "execution_count": 3,
   "metadata": {},
   "outputs": [],
   "source": [
    "import numpy as np\n",
    "import pylab\n",
    "import copy\n",
    "from qiskit import BasicAer\n",
    "from qiskit.aqua import aqua_globals, QuantumInstance\n",
    "from qiskit.aqua.algorithms import NumPyMinimumEigensolver, VQE\n",
    "#classical optimizer to update ansatz\n",
    "from qiskit.aqua.components.optimizers import SLSQP\n",
    "#initial ansatz to be optimized with VQE\n",
    "from qiskit.chemistry.components.initial_states import HartreeFock\n",
    "#vary HF to VQE ansatz\n",
    "from qiskit.chemistry.components.variational_forms import UCCSD\n",
    "#setup molecule\n",
    "from qiskit.chemistry.drivers import PySCFDriver\n",
    "#mapping\n",
    "from qiskit.chemistry.core import Hamiltonian, QubitMappingType"
   ]
  },
  {
   "cell_type": "code",
   "execution_count": 10,
   "metadata": {},
   "outputs": [],
   "source": [
    "molecule = 'H .0 .0 -{0}; Li .0 .0 {0}'\n",
    "# curly bracelet: dimension we can vary\n",
    "distances = np.arange(0.50,4.25,0.25)\n",
    "vqe_energies = [] #GS energy from variational quantum eigensolver\n",
    "hf_energies = [] #initial guess\n",
    "exact_energies = [] #classical"
   ]
  },
  {
   "cell_type": "code",
   "execution_count": 13,
   "metadata": {},
   "outputs": [
    {
     "name": "stdout",
     "output_type": "stream",
     "text": [
      "step 0\n",
      "step 1\n",
      "step 2\n",
      "step 3\n",
      "step 4\n",
      "step 5\n",
      "step 6\n",
      "step 7\n",
      "step 8\n",
      "step 9\n",
      "step 10\n",
      "step 11\n",
      "step 12\n",
      "step 13\n",
      "step 14\n"
     ]
    }
   ],
   "source": [
    "for i,d in enumerate(distances):\n",
    "    print('step',i)\n",
    "    \n",
    "    #set up experiment\n",
    "    driver = PySCFDriver(molecule.format(d/2), basis='sto3g')\n",
    "    qmolecule = driver.run()\n",
    "    operator = Hamiltonian(qubit_mapping = QubitMappingType.PARITY, \n",
    "                           two_qubit_reduction=True, \n",
    "                           freeze_core=True, \n",
    "                           orbital_reduction=[-3,-2])\n",
    "    qubit_op, aux_ops = operator.run(qmolecule)\n",
    "    \n",
    "    #exact classical result\n",
    "    exact_result = NumPyMinimumEigensolver(qubit_op, aux_operators = aux_ops).compute_minimum_eigenvalue()\n",
    "    exact_result = operator.process_algorithm_result(exact_result)\n",
    "    \n",
    "    #VQE\n",
    "    optimizer = SLSQP(maxiter=1000) #try 1000 times before converging\n",
    "    initial_state = HartreeFock(operator.molecule_info['num_orbitals'], \n",
    "                                operator.molecule_info['num_particles'],\n",
    "                               qubit_mapping=operator._qubit_mapping,\n",
    "                               two_qubit_reduction=operator._two_qubit_reduction)\n",
    "    var_form = UCCSD(num_orbitals=operator.molecule_info['num_orbitals'],\n",
    "                    num_particles=operator.molecule_info['num_particles'],\n",
    "                    initial_state=initial_state,\n",
    "                    qubit_mapping=operator._qubit_mapping,\n",
    "                    two_qubit_reduction=operator._two_qubit_reduction)\n",
    "    algo = VQE(qubit_op, var_form, optimizer, aux_operators=aux_ops)\n",
    "    \n",
    "    vqe_result = algo.run(QuantumInstance(BasicAer.get_backend('statevector_simulator')))\n",
    "    vqe_result = operator.process_algorithm_result(vqe_result)\n",
    "    \n",
    "    exact_energies.append(exact_result.energy)\n",
    "    vqe_energies.append(vqe_result.energy)\n",
    "    hf_energies.append(vqe_result.hartree_fock_energy)"
   ]
  },
  {
   "cell_type": "code",
   "execution_count": 14,
   "metadata": {},
   "outputs": [
    {
     "data": {
      "text/plain": [
       "<matplotlib.legend.Legend at 0x7fae7f2b38e0>"
      ]
     },
     "execution_count": 14,
     "metadata": {},
     "output_type": "execute_result"
    },
    {
     "data": {
      "image/png": "[encoded data removed]",
      "text/plain": [
       "<Figure size 432x288 with 1 Axes>"
      ]
     },
     "metadata": {
      "needs_background": "light"
     },
     "output_type": "display_data"
    }
   ],
   "source": [
    "pylab.plot(distances, hf_energies, label='Hartree-Fock')\n",
    "pylab.plot(distances, vqe_energies, 'o', label='VQE')\n",
    "pylab.plot(distances, exact_energies, 'x', label='Exact')\n",
    "\n",
    "pylab.xlabel('Interatomic distance')\n",
    "pylab.ylabel('Energy')\n",
    "pylab.title('LiH Ground State Energy')\n",
    "pylab.legend(loc='upper right')"
   ]
  },
  {
   "cell_type": "code",
   "execution_count": null,
   "metadata": {},
   "outputs": [],
   "source": []
  }
 ],
 "metadata": {
  "kernelspec": {
   "display_name": "Python 3",
   "language": "python",
   "name": "python3"
  },
  "language_info": {
   "codemirror_mode": {
    "name": "ipython",
    "version": 3
   },
   "file_extension": ".py",
   "mimetype": "text/x-python",
   "name": "python",
   "nbconvert_exporter": "python",
   "pygments_lexer": "ipython3",
   "version": "3.8.5"
  }
 },
 "nbformat": 4,
 "nbformat_minor": 4
}
